{
 "cells": [
  {
   "cell_type": "markdown",
   "metadata": {},
   "source": [
    "# Clase 03 - Datos multidimensionales, de jerarquía y de flujo"
   ]
  },
  {
   "cell_type": "markdown",
   "metadata": {},
   "source": [
    "Profesor: **Fernando Becerra**, f.becerra@udd.cl, [www.fernandobecerra.com](www.fernandobecerra.com)"
   ]
  },
  {
   "cell_type": "markdown",
   "metadata": {},
   "source": [
    "Esta semana expanderemos más nuestro conocimiento de distintos tipos de gráficos para los casos de datos multidimensionales, de jerarquía y de flujo."
   ]
  },
  {
   "cell_type": "markdown",
   "metadata": {},
   "source": [
    "Comencemos importando lo mismo de siempre."
   ]
  },
  {
   "cell_type": "code",
   "execution_count": null,
   "metadata": {},
   "outputs": [],
   "source": [
    "import pandas as pd\n",
    "import numpy as np\n",
    "import matplotlib as mpl\n",
    "import matplotlib.pyplot as plt\n",
    "import seaborn as sns"
   ]
  },
  {
   "cell_type": "markdown",
   "metadata": {},
   "source": [
    "## Datos multidimensionales"
   ]
  },
  {
   "cell_type": "markdown",
   "metadata": {},
   "source": [
    "Cuando tenemos datos que tienen más de 3 ó 4 propiedades, gráficos como el de barra o el de dispersión quedan cortos y no son suficiente, es por eso que usamos otras técnicas de representación para ver todas las variables al mismo tiempo y explorar si hay alguna relación entre ellas."
   ]
  },
  {
   "cell_type": "markdown",
   "metadata": {},
   "source": [
    "Las coordenadas paralelas y la matriz de diagramas de dispersión las importamos desde `pandas`."
   ]
  },
  {
   "cell_type": "code",
   "execution_count": null,
   "metadata": {},
   "outputs": [],
   "source": [
    "from pandas.plotting import parallel_coordinates, scatter_matrix"
   ]
  },
  {
   "cell_type": "markdown",
   "metadata": {},
   "source": [
    "### Coordenadas paralelas"
   ]
  },
  {
   "cell_type": "markdown",
   "metadata": {},
   "source": [
    "Cargamos datos estándar desde `seaborn`"
   ]
  },
  {
   "cell_type": "code",
   "execution_count": null,
   "metadata": {},
   "outputs": [],
   "source": [
    "data = sns.load_dataset('iris')\n",
    "data"
   ]
  },
  {
   "cell_type": "markdown",
   "metadata": {},
   "source": [
    "Y ocupamos las coordenadas paralelas de `pandas`"
   ]
  },
  {
   "cell_type": "code",
   "execution_count": null,
   "metadata": {},
   "outputs": [],
   "source": [
    "ax = parallel_coordinates(data, 'species')"
   ]
  },
  {
   "cell_type": "markdown",
   "metadata": {},
   "source": [
    "No es el mejor gráfico, pero se ve bien. Probemos con otra serie de datos"
   ]
  },
  {
   "cell_type": "code",
   "execution_count": null,
   "metadata": {},
   "outputs": [],
   "source": [
    "data = pd.read_csv(\"../../datos/exoplanets.csv\")\n",
    "data.head()"
   ]
  },
  {
   "cell_type": "markdown",
   "metadata": {},
   "source": [
    "Filtremos sólo las columnas que nos interesan"
   ]
  },
  {
   "cell_type": "code",
   "execution_count": null,
   "metadata": {},
   "outputs": [],
   "source": [
    "df = data[['MASS', 'R', 'BMV', 'MSTAR', 'RSTAR', 'TEFF', 'A', 'PER', 'ECC', 'DIST', 'PLANETDISCMETH']].dropna().reset_index(drop=True)\n",
    "df.head()"
   ]
  },
  {
   "cell_type": "markdown",
   "metadata": {},
   "source": [
    "Y probemos las coordenada paralelas"
   ]
  },
  {
   "cell_type": "code",
   "execution_count": null,
   "metadata": {},
   "outputs": [],
   "source": [
    "ax = parallel_coordinates(df, 'PLANETDISCMETH')"
   ]
  },
  {
   "cell_type": "markdown",
   "metadata": {},
   "source": [
    "Lamentablemente este método tiene varios problemas. Entre otros, el principal es que no se pueden ajustar las escalas del eje y para las distintas columnas. Para resolver eso, usaremos una función especial para crear coordenadas paralelas sacada de [acá](http://benalexkeen.com/parallel-coordinates-in-matplotlib/)."
   ]
  },
  {
   "cell_type": "code",
   "execution_count": null,
   "metadata": {},
   "outputs": [],
   "source": [
    "from matplotlib import ticker\n",
    "\n",
    "def plot_parallel_coordinates(df, cat_col, cols, colours):\n",
    "    \n",
    "    x = [i for i, _ in enumerate(cols)]\n",
    "\n",
    "    # Create (X-1) sublots along x axis\n",
    "    fig, axes = plt.subplots(1, len(x)-1, sharey=False, figsize=(15,5))\n",
    "\n",
    "    # Get min, max and range for each column\n",
    "    # Normalize the data for each column\n",
    "    min_max_range = {}\n",
    "    for col in cols:\n",
    "        min_max_range[col] = [df[col].min(), df[col].max(), np.ptp(df[col])]\n",
    "        df[col] = np.true_divide(df[col] - df[col].min(), np.ptp(df[col]))\n",
    "\n",
    "    # Plot each row\n",
    "    for i, ax in enumerate(axes):\n",
    "        for idx in df.index:\n",
    "            mpg_category = df.loc[idx, cat_col]\n",
    "            ax.plot(x, df.loc[idx, cols], colours[mpg_category])\n",
    "        ax.set_xlim([x[i], x[i+1]])\n",
    "\n",
    "    # Set the tick positions and labels on y axis for each plot\n",
    "    # Tick positions based on normalised data\n",
    "    # Tick labels are based on original data\n",
    "    def set_ticks_for_axis(dim, ax, ticks):\n",
    "        min_val, max_val, val_range = min_max_range[cols[dim]]\n",
    "        step = val_range / float(ticks-1)\n",
    "        tick_labels = [round(min_val + step * i, 2) for i in range(ticks)]\n",
    "        norm_min = df[cols[dim]].min()\n",
    "        norm_range = np.ptp(df[cols[dim]])\n",
    "        norm_step = norm_range / float(ticks-1)\n",
    "        ticks = [round(norm_min + norm_step * i, 2) for i in range(ticks)]\n",
    "        ax.yaxis.set_ticks(ticks)\n",
    "        ax.set_yticklabels(tick_labels)\n",
    "\n",
    "    for dim, ax in enumerate(axes):\n",
    "        ax.xaxis.set_major_locator(ticker.FixedLocator([dim]))\n",
    "        set_ticks_for_axis(dim, ax, ticks=6)\n",
    "        ax.set_xticklabels([cols[dim]])\n",
    "\n",
    "\n",
    "    # Move the final axis' ticks to the right-hand side\n",
    "    ax = plt.twinx(axes[-1])\n",
    "    dim = len(axes)\n",
    "    ax.xaxis.set_major_locator(ticker.FixedLocator([x[-2], x[-1]]))\n",
    "    set_ticks_for_axis(dim, ax, ticks=6)\n",
    "    ax.set_xticklabels([cols[-2], cols[-1]])\n",
    "\n",
    "\n",
    "    # Remove space between subplots\n",
    "    plt.subplots_adjust(wspace=0)\n",
    "\n",
    "    # Add legend to plot\n",
    "    plt.legend(\n",
    "        [plt.Line2D((0,1),(0,0), color=colours[cat]) for cat in df[cat_col].cat.categories],\n",
    "        df[cat_col].cat.categories,\n",
    "        bbox_to_anchor=(1.2, 1), loc=2, borderaxespad=0.)\n",
    "\n",
    "    return fig, ax"
   ]
  },
  {
   "cell_type": "markdown",
   "metadata": {},
   "source": [
    "Ahora definimos las variables que nos pide la función, entre ellas: el dataframe, la columna que ocuparemos como categoría, las columnas que queremos graficas, y los colores de las categorías en forma de diccionario."
   ]
  },
  {
   "cell_type": "code",
   "execution_count": null,
   "metadata": {},
   "outputs": [],
   "source": [
    "cat_col = 'PLANETDISCMETH'\n",
    "\n",
    "cols = ['MASS', 'R', 'BMV', 'MSTAR', 'RSTAR', 'TEFF', 'A', 'PER', 'ECC', 'DIST']\n",
    "colours = ['#2e8ad8', '#cd3785']\n",
    "\n",
    "df[cat_col] = df[cat_col].astype('category')\n",
    "\n",
    "colours = {\n",
    "    df[cat_col].cat.categories[i]: colours[i] for i, _ in enumerate(df[cat_col].cat.categories)\n",
    "}\n"
   ]
  },
  {
   "cell_type": "markdown",
   "metadata": {},
   "source": [
    "Y ocupamos la función ya definida"
   ]
  },
  {
   "cell_type": "code",
   "execution_count": null,
   "metadata": {},
   "outputs": [],
   "source": [
    "fig, ax = plot_parallel_coordinates(df, 'PLANETDISCMETH', cols, colours)"
   ]
  },
  {
   "cell_type": "markdown",
   "metadata": {},
   "source": [
    "Como nos devuelve la `fig` y el `ax`, podemos seguir haciéndole otras modificaciones como agregar título y otras."
   ]
  },
  {
   "cell_type": "markdown",
   "metadata": {},
   "source": [
    "### Matrices"
   ]
  },
  {
   "cell_type": "markdown",
   "metadata": {},
   "source": [
    "Otra forma de graficar datos multidimensionales es crear una matriz de relaciones entre todas las variables a ocupar. Para esto, ocuparemos la función `PairGrid` de `seaborn`."
   ]
  },
  {
   "cell_type": "code",
   "execution_count": null,
   "metadata": {
    "scrolled": true
   },
   "outputs": [],
   "source": [
    "g = sns.PairGrid(df, hue=cat_col)\n",
    "plt.show()"
   ]
  },
  {
   "cell_type": "markdown",
   "metadata": {},
   "source": [
    "Y podemos ir agregando nuestro gráficos en la parte inferior."
   ]
  },
  {
   "cell_type": "code",
   "execution_count": null,
   "metadata": {},
   "outputs": [],
   "source": [
    "g = sns.PairGrid(df, hue=cat_col)\n",
    "g.map_lower(sns.scatterplot)\n",
    "plt.show()"
   ]
  },
  {
   "cell_type": "markdown",
   "metadata": {},
   "source": [
    "En la diagonal"
   ]
  },
  {
   "cell_type": "code",
   "execution_count": null,
   "metadata": {},
   "outputs": [],
   "source": [
    "g = sns.PairGrid(df, hue=cat_col)\n",
    "g.map_lower(sns.scatterplot)\n",
    "g.map_diag(sns.kdeplot, lw=3, legend=False)\n",
    "plt.show()"
   ]
  },
  {
   "cell_type": "markdown",
   "metadata": {},
   "source": [
    "Y en la parte superior."
   ]
  },
  {
   "cell_type": "code",
   "execution_count": null,
   "metadata": {},
   "outputs": [],
   "source": [
    "g = sns.PairGrid(df, hue=cat_col)\n",
    "g.map_lower(sns.scatterplot)\n",
    "g.map_diag(sns.kdeplot, lw=3, legend=False)\n",
    "g.map_upper(sns.kdeplot)\n",
    "plt.show()"
   ]
  },
  {
   "cell_type": "markdown",
   "metadata": {},
   "source": [
    "## Jerarquía"
   ]
  },
  {
   "cell_type": "markdown",
   "metadata": {},
   "source": [
    "Otros tipos de datos con los que nos encontramos frecuentemente, son aquellos en los que hay algún tipo de jerarquía. Por ejemplo, grupo de grupos. Dos visualizaciones son muy comunes para ese tipo de datos: los treemaps y los círculos."
   ]
  },
  {
   "cell_type": "markdown",
   "metadata": {},
   "source": [
    "### Treemap"
   ]
  },
  {
   "cell_type": "markdown",
   "metadata": {},
   "source": [
    "Para hacer un treemap necesitamos instalar el paquete `squarify`"
   ]
  },
  {
   "cell_type": "code",
   "execution_count": null,
   "metadata": {},
   "outputs": [],
   "source": [
    "import squarify"
   ]
  },
  {
   "cell_type": "markdown",
   "metadata": {},
   "source": [
    "Los datos que cargaremos son los aportes a las campañas del plebiscito de este fin de semana"
   ]
  },
  {
   "cell_type": "code",
   "execution_count": null,
   "metadata": {},
   "outputs": [],
   "source": [
    "df = pd.read_excel('../../datos/aportes_gastos_plebiscito.xlsx', sheet_name=['Aportes', 'Propaganda por Medios Digitales', 'Medios'])\n",
    "df['Aportes'].head()"
   ]
  },
  {
   "cell_type": "markdown",
   "metadata": {},
   "source": [
    "Necesitamos procesarlos un poco para que queden en un formato que nos convenga graficarlo. Para eso, calcularemos el aporte total por cada organización en la base de datos y la ordenaremos por el monto del aporte."
   ]
  },
  {
   "cell_type": "code",
   "execution_count": null,
   "metadata": {},
   "outputs": [],
   "source": [
    "aportes = (\n",
    "    df['Aportes'].groupby(['Nombre Organización', 'Opcion'])\n",
    "        .agg(aporte=(\"Monto ($)\", \"sum\"))\n",
    "        .sort_values(['Opcion', 'aporte'], ascending=False)\n",
    "        .reset_index()\n",
    ")\n",
    "aportes"
   ]
  },
  {
   "cell_type": "markdown",
   "metadata": {},
   "source": [
    "Ocupamos `squarify` para crear nuestro primer treemap"
   ]
  },
  {
   "cell_type": "code",
   "execution_count": null,
   "metadata": {},
   "outputs": [],
   "source": [
    "squarify.plot(sizes=aportes['aporte'], alpha=.8 )\n",
    "plt.axis('off')\n",
    "plt.show()"
   ]
  },
  {
   "cell_type": "markdown",
   "metadata": {},
   "source": [
    "Necesitamos mejorarlo, para lo cual agregaremos colores y anotaciones. Tanto los colores como las anotaciones estarán dados por la fracción del aporte total correspondiente a cada opción. Para eso, primero necesitamos calcular el aporte total de cada opción, y calcular la fracción para cada organización."
   ]
  },
  {
   "cell_type": "code",
   "execution_count": null,
   "metadata": {},
   "outputs": [],
   "source": [
    "totA = aportes[aportes['Opcion'] == 'APRUEBO']['aporte'].sum()\n",
    "totR = aportes[aportes['Opcion'] == 'RECHAZO']['aporte'].sum()\n",
    "aportes['porcentaje'] = aportes.apply(\n",
    "    lambda x: x['aporte']/totA if x['Opcion'] == 'APRUEBO' else x['aporte']/totR,\n",
    "    axis=1\n",
    ")\n",
    "aportes.head()"
   ]
  },
  {
   "cell_type": "markdown",
   "metadata": {},
   "source": [
    "Con esos datos, calcularmos el color (en una escala de 0 a 1) para cada fila de datos."
   ]
  },
  {
   "cell_type": "code",
   "execution_count": null,
   "metadata": {},
   "outputs": [],
   "source": [
    "pmin = aportes[aportes['Opcion'] == 'APRUEBO']['porcentaje'].min()\n",
    "pmax = aportes[aportes['Opcion'] == 'APRUEBO']['porcentaje'].max()\n",
    "normA = mpl.colors.Normalize(vmin=pmin, vmax=pmax)\n",
    "cmapA = mpl.cm.Blues\n",
    "\n",
    "pmin = aportes[aportes['Opcion'] == 'RECHAZO']['porcentaje'].min()\n",
    "pmax = aportes[aportes['Opcion'] == 'RECHAZO']['porcentaje'].max()\n",
    "normR = mpl.colors.Normalize(vmin=pmin, vmax=pmax)\n",
    "cmapR = mpl.cm.Reds\n",
    "\n",
    "aportes['norm'] = aportes.apply(\n",
    "    lambda x: normA(x['porcentaje']) if x['Opcion'] == 'APRUEBO' else normR(x['porcentaje']),\n",
    "    axis=1\n",
    ")\n",
    "aportes['color'] = aportes.apply(\n",
    "    lambda x: cmapA(x['norm']) if x['Opcion'] == 'APRUEBO' else cmapR(x['norm']),\n",
    "    axis=1\n",
    ")\n",
    "aportes.head()"
   ]
  },
  {
   "cell_type": "markdown",
   "metadata": {},
   "source": [
    "Ahora calculamos las anotaciones que incluiremos, basándonos en un valor de corte que llamaremos `threshold`."
   ]
  },
  {
   "cell_type": "code",
   "execution_count": null,
   "metadata": {},
   "outputs": [],
   "source": [
    "threshold = 0.5\n",
    "aportes['nombre'] = aportes.apply(\n",
    "    lambda x: x['Nombre Organización'].split(\"-\")[0] if x['norm'] > threshold else '',\n",
    "    axis=1\n",
    ")\n"
   ]
  },
  {
   "cell_type": "markdown",
   "metadata": {},
   "source": [
    "Finalmente graficamos todo."
   ]
  },
  {
   "cell_type": "code",
   "execution_count": null,
   "metadata": {},
   "outputs": [],
   "source": [
    "fig, ax = plt.subplots(1,1, figsize=(18,8))\n",
    "\n",
    "squarify.plot(sizes=aportes['aporte'],\n",
    "              color=aportes['color'],\n",
    "              label=aportes['nombre'],\n",
    "              ax=ax)\n",
    "plt.axis('off')\n",
    "plt.show()"
   ]
  },
  {
   "cell_type": "code",
   "execution_count": null,
   "metadata": {},
   "outputs": [],
   "source": [
    "fig, ax = plt.subplots(1,1, figsize=(18,8))\n",
    "\n",
    "squarify.plot(sizes=aportes['aporte'],\n",
    "              color=aportes['color'],\n",
    "              label=aportes['nombre'],\n",
    "              alpha=.8,\n",
    "              text_kwargs={\n",
    "                  'fontsize':12,\n",
    "                  'color': 'white',\n",
    "                  'weight': 'bold'\n",
    "              },\n",
    "              ax=ax,\n",
    "              edgecolor='#d2d2d2')\n",
    "plt.axis('off')\n",
    "plt.show()"
   ]
  },
  {
   "cell_type": "markdown",
   "metadata": {},
   "source": [
    "### Círculos"
   ]
  },
  {
   "cell_type": "markdown",
   "metadata": {},
   "source": [
    "Algo parecido podemos hacer pero ahora con círculos. Para ello usaremos datos de población mundial, en format json."
   ]
  },
  {
   "cell_type": "code",
   "execution_count": null,
   "metadata": {},
   "outputs": [],
   "source": [
    "data = [{'id': 'World', 'datum': 6964195249, 'children' : [\n",
    "              {'id' : \"North America\", 'datum': 450448697,\n",
    "                   'children' : [\n",
    "                     {'id' : \"United States\", 'datum' : 308865000},\n",
    "                     {'id' : \"Mexico\", 'datum' : 107550697},\n",
    "                     {'id' : \"Canada\", 'datum' : 34033000} \n",
    "                   ]},\n",
    "              {'id' : \"South America\", 'datum' : 278095425, \n",
    "                   'children' : [\n",
    "                     {'id' : \"Brazil\", 'datum' : 192612000},\n",
    "                     {'id' : \"Colombia\", 'datum' : 45349000},\n",
    "                     {'id' : \"Argentina\", 'datum' : 40134425}\n",
    "                   ]},\n",
    "              {'id' : \"Europe\", 'datum' : 209246682,  \n",
    "                   'children' : [\n",
    "                     {'id' : \"Germany\", 'datum' : 81757600},\n",
    "                     {'id' : \"France\", 'datum' : 65447374},\n",
    "                     {'id' : \"United Kingdom\", 'datum' : 62041708}\n",
    "                   ]},\n",
    "              {'id' : \"Africa\", 'datum' : 311929000,  \n",
    "                   'children' : [\n",
    "                     {'id' : \"Nigeria\", 'datum' : 154729000},\n",
    "                     {'id' : \"Ethiopia\", 'datum' : 79221000},\n",
    "                     {'id' : \"Egypt\", 'datum' : 77979000}\n",
    "                   ]},\n",
    "              {'id' : \"Asia\", 'datum' : 2745929500,  \n",
    "                   'children' : [\n",
    "                     {'id' : \"China\", 'datum' : 1336335000},\n",
    "                     {'id' : \"India\", 'datum' : 1178225000},\n",
    "                     {'id' : \"Indonesia\", 'datum' : 231369500}\n",
    "                   ]}\n",
    "    ]}]"
   ]
  },
  {
   "cell_type": "markdown",
   "metadata": {},
   "source": [
    "Necesitamos instalar el paquete `circlify`"
   ]
  },
  {
   "cell_type": "code",
   "execution_count": null,
   "metadata": {},
   "outputs": [],
   "source": [
    "import circlify"
   ]
  },
  {
   "cell_type": "markdown",
   "metadata": {},
   "source": [
    "Y lo ocupamos para calcular los círculos"
   ]
  },
  {
   "cell_type": "code",
   "execution_count": null,
   "metadata": {},
   "outputs": [],
   "source": [
    "# Compute circle positions thanks to the circlify() function\n",
    "circles = circlify.circlify(\n",
    "    data, \n",
    "    show_enclosure=False, \n",
    "    target_enclosure=circlify.Circle(x=0, y=0, r=1)\n",
    ")\n",
    "circles"
   ]
  },
  {
   "cell_type": "markdown",
   "metadata": {},
   "source": [
    "Una vez que tenemos todos los datos de los círculos los graficamos."
   ]
  },
  {
   "cell_type": "code",
   "execution_count": null,
   "metadata": {},
   "outputs": [],
   "source": [
    "fig, ax = plt.subplots(figsize=(14,14))\n",
    "\n",
    "# Title\n",
    "ax.set_title('Repartition of the world population')\n",
    "\n",
    "# Remove axes\n",
    "ax.axis('off')\n",
    "\n",
    "# Find axis boundaries\n",
    "lim = max(\n",
    "    max(\n",
    "        abs(circle.x) + circle.r,\n",
    "        abs(circle.y) + circle.r,\n",
    "    )\n",
    "    for circle in circles\n",
    ")\n",
    "plt.xlim(-lim, lim)\n",
    "plt.ylim(-lim, lim)\n",
    "\n",
    "# Print circle the highest level (continents):\n",
    "for circle in circles:\n",
    "    x, y, r = circle\n",
    "    ax.add_patch( plt.Circle((x, y), r, alpha=0.5, linewidth=2, color=\"lightblue\"))"
   ]
  },
  {
   "cell_type": "code",
   "execution_count": null,
   "metadata": {},
   "outputs": [],
   "source": [
    "fig, ax = plt.subplots(figsize=(14,14))\n",
    "\n",
    "# Title\n",
    "ax.set_title('Repartition of the world population')\n",
    "\n",
    "# Remove axes\n",
    "ax.axis('off')\n",
    "\n",
    "# Find axis boundaries\n",
    "lim = max(\n",
    "    max(\n",
    "        abs(circle.x) + circle.r,\n",
    "        abs(circle.y) + circle.r,\n",
    "    )\n",
    "    for circle in circles\n",
    ")\n",
    "plt.xlim(-lim, lim)\n",
    "plt.ylim(-lim, lim)\n",
    "\n",
    "# Print circle the highest level (continents):\n",
    "for circle in circles:\n",
    "    if circle.level != 2:\n",
    "        continue\n",
    "    x, y, r = circle\n",
    "    ax.add_patch( plt.Circle((x, y), r, alpha=0.5, linewidth=2, color=\"lightblue\"))\n",
    "\n",
    "# Print circle and labels for the highest level:\n",
    "for circle in circles:\n",
    "    if circle.level != 3:\n",
    "        continue\n",
    "    x, y, r = circle\n",
    "    label = circle.ex[\"id\"]\n",
    "    ax.add_patch( plt.Circle((x, y), r, alpha=0.5, linewidth=2, color=\"#69b3a2\"))\n",
    "    plt.annotate(label, (x,y ), ha='center', color=\"white\")\n",
    "\n",
    "# Print labels for the continents\n",
    "for circle in circles:\n",
    "    if circle.level != 2:\n",
    "        continue\n",
    "    x, y, r = circle\n",
    "    label = circle.ex[\"id\"]\n",
    "    plt.annotate(label, (x,y) ,va='center', ha='center', bbox=dict(facecolor='white', edgecolor='black', boxstyle='round', pad=.5))"
   ]
  },
  {
   "cell_type": "markdown",
   "metadata": {},
   "source": [
    "## Flujos"
   ]
  },
  {
   "cell_type": "markdown",
   "metadata": {},
   "source": [
    "### Streamgraph"
   ]
  },
  {
   "cell_type": "markdown",
   "metadata": {},
   "source": [
    "El streamgraph consiste básicamente en un stacked area chart suavizado. Para la parte de suavizar el gráfico será necesatio ocupar `scipy`."
   ]
  },
  {
   "cell_type": "code",
   "execution_count": null,
   "metadata": {},
   "outputs": [],
   "source": [
    "from scipy import stats"
   ]
  },
  {
   "cell_type": "markdown",
   "metadata": {},
   "source": [
    "Partamos creando datos aleatorios"
   ]
  },
  {
   "cell_type": "code",
   "execution_count": null,
   "metadata": {},
   "outputs": [],
   "source": [
    "x = np.arange(1990, 2020) # (N,) array-like\n",
    "y = [np.random.randint(0, 5, size=30) for _ in range(5)] # (M, N) array-like"
   ]
  },
  {
   "cell_type": "markdown",
   "metadata": {},
   "source": [
    "Y creemos un stacked area chart"
   ]
  },
  {
   "cell_type": "code",
   "execution_count": null,
   "metadata": {},
   "outputs": [],
   "source": [
    "fig, ax = plt.subplots(figsize=(10, 7))\n",
    "ax.stackplot(x, y);"
   ]
  },
  {
   "cell_type": "markdown",
   "metadata": {},
   "source": [
    "Para un streamgraph es necesario mover el gráfico de tal forma que el eje x se ubique a la mitad del gráfico."
   ]
  },
  {
   "cell_type": "code",
   "execution_count": null,
   "metadata": {},
   "outputs": [],
   "source": [
    "fig, ax = plt.subplots(figsize=(10, 7))\n",
    "ax.stackplot(x, y, baseline=\"sym\")\n",
    "ax.axhline(0, color=\"black\", ls=\"--\");"
   ]
  },
  {
   "cell_type": "markdown",
   "metadata": {},
   "source": [
    "Para suavizar la curva ocuparemos una función `stats.norm.pdf` que se ocupa de la siguiente manera:"
   ]
  },
  {
   "cell_type": "code",
   "execution_count": null,
   "metadata": {},
   "outputs": [],
   "source": [
    "grid = np.linspace(-3, 3, num=100)\n",
    "plt.plot(grid, stats.norm.pdf(grid));"
   ]
  },
  {
   "cell_type": "markdown",
   "metadata": {},
   "source": [
    "Entonces podemos definir una función que nos calcula la versión suavizada de cualquier serie de datos."
   ]
  },
  {
   "cell_type": "code",
   "execution_count": null,
   "metadata": {},
   "outputs": [],
   "source": [
    "def gaussian_smooth(x, y, sd):\n",
    "    weights = np.array([stats.norm.pdf(x, m, sd) for m in x])\n",
    "    weights = weights / weights.sum(1)\n",
    "    return (weights * y).sum(1)"
   ]
  },
  {
   "cell_type": "markdown",
   "metadata": {},
   "source": [
    "Y ocupamos eso para suavizar nuestros datos iniciales"
   ]
  },
  {
   "cell_type": "code",
   "execution_count": null,
   "metadata": {},
   "outputs": [],
   "source": [
    "fig, ax = plt.subplots(figsize=(10, 7))\n",
    "y_smoothed = [gaussian_smooth(x, y_, 1) for y_ in y]\n",
    "ax.stackplot(x, y_smoothed, baseline=\"sym\");"
   ]
  },
  {
   "cell_type": "markdown",
   "metadata": {},
   "source": [
    "No está tan suave aún, por lo que ampliamos la función para recibir cualquier grilla (resolución) y así lograr una mejor curva."
   ]
  },
  {
   "cell_type": "code",
   "execution_count": null,
   "metadata": {},
   "outputs": [],
   "source": [
    "def gaussian_smooth(x, y, grid, sd):\n",
    "    weights = np.transpose([stats.norm.pdf(grid, m, sd) for m in x])\n",
    "    weights = weights / weights.sum(0)\n",
    "    return (weights * y).sum(1)"
   ]
  },
  {
   "cell_type": "markdown",
   "metadata": {},
   "source": [
    "Y ahora la aplicamos a nuestros datos"
   ]
  },
  {
   "cell_type": "code",
   "execution_count": null,
   "metadata": {},
   "outputs": [],
   "source": [
    "fig, ax = plt.subplots(figsize=(10, 7))\n",
    "grid = np.linspace(1985, 2025, num=500)\n",
    "y_smoothed = [gaussian_smooth(x, y_, grid, 1) for y_ in y]\n",
    "ax.stackplot(grid, y_smoothed, baseline=\"sym\");"
   ]
  },
  {
   "cell_type": "markdown",
   "metadata": {},
   "source": [
    "Podemos comparar cómo se ven dos curvas con distinta resolución para tener una idea de como funcionan esos parámetros"
   ]
  },
  {
   "cell_type": "code",
   "execution_count": null,
   "metadata": {},
   "outputs": [],
   "source": [
    "fig, ax = plt.subplots(1, 2, figsize=(12, 6))\n",
    "# sd of 0.6\n",
    "y_smoothed_1 = [gaussian_smooth(x, y_, grid, 0.6) for y_ in y]\n",
    "# sd of 1.5\n",
    "y_smoothed_2 = [gaussian_smooth(x, y_, grid, 1.5) for y_ in y]\n",
    "\n",
    "ax[0].stackplot(grid, y_smoothed_1, baseline=\"sym\")\n",
    "ax[1].stackplot(grid, y_smoothed_2, baseline=\"sym\");"
   ]
  },
  {
   "cell_type": "markdown",
   "metadata": {},
   "source": [
    "### Diagrama de Sankey"
   ]
  },
  {
   "cell_type": "markdown",
   "metadata": {},
   "source": [
    "Por último, veremos cómo hacer un diagrama de Sankey. Para esto, necesitamos instalar el paquete `pysankey`."
   ]
  },
  {
   "cell_type": "code",
   "execution_count": null,
   "metadata": {},
   "outputs": [],
   "source": [
    "from pySankey.sankey import sankey"
   ]
  },
  {
   "cell_type": "markdown",
   "metadata": {},
   "source": [
    "Cargamos unos de los datos que vienen de ejemplo"
   ]
  },
  {
   "cell_type": "code",
   "execution_count": null,
   "metadata": {},
   "outputs": [],
   "source": [
    "url = \"https://raw.githubusercontent.com/anazalea/pySankey/master/pysankey/fruits.txt\"\n",
    "df = pd.read_csv(url, sep=\" \", names=[\"true\", \"predicted\"])\n",
    "df.head()"
   ]
  },
  {
   "cell_type": "markdown",
   "metadata": {},
   "source": [
    "Y los graficamos"
   ]
  },
  {
   "cell_type": "code",
   "execution_count": null,
   "metadata": {},
   "outputs": [],
   "source": [
    "colors = {\n",
    "    \"apple\": \"#f71b1b\",\n",
    "    \"blueberry\": \"#1b7ef7\",\n",
    "    \"banana\": \"#f3f71b\",\n",
    "    \"lime\": \"#12e23f\",\n",
    "    \"orange\": \"#f78c1b\"\n",
    "}\n",
    "\n",
    "sankey(df[\"true\"], df[\"predicted\"], aspect=20, colorDict=colors, fontsize=12)"
   ]
  },
  {
   "cell_type": "markdown",
   "metadata": {},
   "source": [
    "Podemos agregarle pesos. Para eso carguemos una nueva serie de datos."
   ]
  },
  {
   "cell_type": "code",
   "execution_count": null,
   "metadata": {},
   "outputs": [],
   "source": [
    "url = \"../../datos/customers-goods.csv\"\n",
    "df = pd.read_csv(url, sep=\",\")\n",
    "df.head()"
   ]
  },
  {
   "cell_type": "markdown",
   "metadata": {},
   "source": [
    "Y usemos los pesos para ambos lados del diagrama."
   ]
  },
  {
   "cell_type": "code",
   "execution_count": null,
   "metadata": {},
   "outputs": [],
   "source": [
    "sankey(\n",
    "    left=df[\"customer\"], right=df[\"good\"], \n",
    "    leftWeight= df[\"revenue\"], rightWeight=df[\"revenue\"], \n",
    "    aspect=20, fontsize=20\n",
    ")"
   ]
  },
  {
   "cell_type": "markdown",
   "metadata": {},
   "source": [
    "Un muy buen recurso para ver estos tipos de gráficos y más es [la galería de gráficos de python](https://www.python-graph-gallery.com)"
   ]
  },
  {
   "cell_type": "code",
   "execution_count": null,
   "metadata": {},
   "outputs": [],
   "source": []
  }
 ],
 "metadata": {
  "kernelspec": {
   "display_name": "Python 3",
   "language": "python",
   "name": "python3"
  },
  "language_info": {
   "codemirror_mode": {
    "name": "ipython",
    "version": 3
   },
   "file_extension": ".py",
   "mimetype": "text/x-python",
   "name": "python",
   "nbconvert_exporter": "python",
   "pygments_lexer": "ipython3",
   "version": "3.8.16"
  }
 },
 "nbformat": 4,
 "nbformat_minor": 4
}
