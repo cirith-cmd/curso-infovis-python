{
 "cells": [
  {
   "cell_type": "markdown",
   "metadata": {},
   "source": [
    "# Clase 04 - Mapas y redes"
   ]
  },
  {
   "cell_type": "markdown",
   "metadata": {},
   "source": [
    "Profesor: **Fernando Becerra**, f.becerra@udd.cl, [www.fernandobecerra.com](www.fernandobecerra.com)"
   ]
  },
  {
   "cell_type": "markdown",
   "metadata": {},
   "source": [
    "En esta clase expanderemos aún más nuestro repertorio de visualizaciones aprendiendo a trabajas con mapas y redes. Para los datos geográficos trabajaremos con el paquete `geopandas`, el cual tiene algunos requerimientos extras que deben ser instalados, y los datos de redes usaremos `networkx`."
   ]
  },
  {
   "cell_type": "markdown",
   "metadata": {},
   "source": [
    "## Mapas"
   ]
  },
  {
   "cell_type": "markdown",
   "metadata": {},
   "source": [
    "Importamos los paquetes estándar para comenzar a trabajar en visualización de datos"
   ]
  },
  {
   "cell_type": "code",
   "execution_count": null,
   "metadata": {},
   "outputs": [],
   "source": [
    "import pandas as pd\n",
    "import numpy as np\n",
    "import matplotlib as mpl\n",
    "import matplotlib.pyplot as plt\n",
    "import seaborn as sns"
   ]
  },
  {
   "cell_type": "markdown",
   "metadata": {},
   "source": [
    "Para mapas y datos geográficos usaremos [geopandas](https://geopandas.org/en/stable/index.html), paquete que extiende los tipos de datos que puede cargar `pandas` para poder ejecutar operaciones espaciales en datos de tipo geométricos."
   ]
  },
  {
   "cell_type": "code",
   "execution_count": null,
   "metadata": {},
   "outputs": [],
   "source": [
    "import geopandas as gpd"
   ]
  },
  {
   "cell_type": "markdown",
   "metadata": {},
   "source": [
    "Para cargar datos geográficos ocupamos la función `read_file` de geopandas. En cuanto a formato de los datos, usualmente los podemos encontrar ya sea en shapefile (`.shp`) o geojson (`.geojson` o simplemente `.json`). Para este ejemplo usaremos datos de la Región Metropolitana."
   ]
  },
  {
   "cell_type": "code",
   "execution_count": null,
   "metadata": {},
   "outputs": [],
   "source": [
    "rm = gpd.read_file('../../datos/RM/LIMITE_URBANO_CENSAL_C17.shp')\n",
    "rm.head()"
   ]
  },
  {
   "cell_type": "markdown",
   "metadata": {},
   "source": [
    "Como `geopandas` es básicamente una extensión de `pandas`, los dataframe cargados tiene funciones y métodos similares. Usemos, por ejemplo, el `.plot`."
   ]
  },
  {
   "cell_type": "code",
   "execution_count": null,
   "metadata": {},
   "outputs": [],
   "source": [
    "fig, ax = plt.subplots(1,1, figsize=(12,8))\n",
    "\n",
    "rm.plot(ax=ax)\n",
    "\n",
    "plt.show()"
   ]
  },
  {
   "cell_type": "markdown",
   "metadata": {},
   "source": [
    "### Graficando datos espaciales"
   ]
  },
  {
   "cell_type": "markdown",
   "metadata": {},
   "source": [
    "Ahora probemos graficando datos espaciales. [Tercera dosis](https://terceradosis.cl/2022/09/16/plebiscito-de-salida-y-la-distribucion-urbana-de-la-elite-progresista-los-veinte-barrios-donde-se-concentro-el-apruebo-en-santiago/) publicó un interesante artículo/análisis del resultado del plebiscito. Lo interesante es que incluye dos visualizaciones y además comparten el código que usaron para hacer los mapas en forma de [notebook](https://colab.research.google.com/drive/1VxBXA_Dqdme4C6GLTYlywUHLOHkNyI02?usp=sharing). Así que veremos si logramos reproducir las figuras y discutiremos cómo les podemos hacer pequeñas mejoras."
   ]
  },
  {
   "cell_type": "markdown",
   "metadata": {},
   "source": [
    "Ahora tenemos que bajar los datos que los autores compartieron desde [acá](https://storage.googleapis.com/notas-blog-public/varios/sf_santiago_plebiscito.zip) y ver qué es lo que hay adentro."
   ]
  },
  {
   "cell_type": "code",
   "execution_count": null,
   "metadata": {},
   "outputs": [],
   "source": [
    "barrios = gpd.read_file('../../datos/sf_santiago_plebiscito/voronoi_attributes.shp')\n",
    "barrios.sample(3)"
   ]
  },
  {
   "cell_type": "markdown",
   "metadata": {},
   "source": [
    "### Figura 1"
   ]
  },
  {
   "cell_type": "markdown",
   "metadata": {},
   "source": [
    "Como ya sabemos graficar con `geopandas`, copiemos y peguemos el código del notebook."
   ]
  },
  {
   "cell_type": "code",
   "execution_count": null,
   "metadata": {},
   "outputs": [],
   "source": [
    "ax = barrios.plot(column = 'apruebo', edgecolor = \"black\", legend = True, alpha = 0.7, scheme='fisher_jenks')\n",
    "\n",
    "plt.show()"
   ]
  },
  {
   "cell_type": "markdown",
   "metadata": {},
   "source": [
    "Hay algunas pequeñas diferencias con la [imágen publicada en el artículo](https://i0.wp.com/terceradosis.cl/wp-content/uploads/2022/09/image-12.png). Tratemos de hacerlo lo más cercano posible."
   ]
  },
  {
   "cell_type": "code",
   "execution_count": null,
   "metadata": {},
   "outputs": [],
   "source": [
    "ax = barrios.plot(column = 'apruebo', edgecolor = \"black\", legend = False, alpha = 1.0, linewidth=0.2)\n",
    "\n",
    "plt.show()"
   ]
  },
  {
   "cell_type": "markdown",
   "metadata": {},
   "source": [
    "Esta geometría se llama [celdas de Voronoi](https://en.wikipedia.org/wiki/Voronoi_diagram) y son útiles para [dividir el espacio en base a una serie de puntos](https://observablehq.com/@d3/voronoi-labels), donde el resultado es que cada celda es la más cercana sólo a uno de aquellos puntos."
   ]
  },
  {
   "cell_type": "markdown",
   "metadata": {},
   "source": [
    "Del artículo podemos sacar el tema en el que se están tratando de enfocar.\n",
    "\n",
    "> En la Figura 1, los colores oscuros reflejan una mayor votación por la opción “rechazo”, y colores claros representan más votos para el “apruebo”\n",
    "\n",
    "Ahora cabe la pregunta, ¿es esa la mejor forma de visualizar esos datos? ¿Qué formas alternativas se les ocurren?"
   ]
  },
  {
   "cell_type": "markdown",
   "metadata": {},
   "source": [
    "Partamos por examinar los datos un poco más."
   ]
  },
  {
   "cell_type": "code",
   "execution_count": null,
   "metadata": {},
   "outputs": [],
   "source": [
    "barrios['apruebo'].describe()"
   ]
  },
  {
   "cell_type": "markdown",
   "metadata": {},
   "source": [
    "Como aquí se quiere hacer una distinción entre apruebo/rechazo, creo que lo más conveniente sería tener distintos colores para cada opción. Para esto, yo usaría un mapa de color divergente con el límite en 0.5, que es lo que indica si gano el apruebo o el rechazo en cada lugar."
   ]
  },
  {
   "cell_type": "code",
   "execution_count": null,
   "metadata": {},
   "outputs": [],
   "source": [
    "fig, ax = plt.subplots(1,1, figsize=(12,8))\n",
    "\n",
    "barrios.plot(column='apruebo', edgecolor=\"darkgray\", legend=True, alpha=1.0, ax=ax, linewidth=0.3,\n",
    "             cmap='BrBG', vmin=0.3, vmax=0.7)\n",
    "\n",
    "ax.set_axis_off()\n",
    "plt.tight_layout()\n",
    "plt.show()"
   ]
  },
  {
   "cell_type": "markdown",
   "metadata": {},
   "source": [
    "Ahora los comparamos"
   ]
  },
  {
   "cell_type": "code",
   "execution_count": null,
   "metadata": {
    "scrolled": true
   },
   "outputs": [],
   "source": [
    "fig, ax = plt.subplots(1,2, figsize=(16,8))\n",
    "\n",
    "barrios.plot(column = 'apruebo', edgecolor = \"black\", legend = True, alpha = 0.7, scheme='fisher_jenks', ax=ax[0])\n",
    "barrios.plot(column='apruebo', edgecolor=\"darkgray\", legend=True, alpha=1.0, ax=ax[1], linewidth=0.3,\n",
    "             cmap='BrBG', vmin=0.3, vmax=0.7)\n",
    "\n",
    "ax[1].set_axis_off()\n",
    "plt.tight_layout()\n",
    "plt.show()"
   ]
  },
  {
   "cell_type": "markdown",
   "metadata": {},
   "source": [
    "### Figura 2"
   ]
  },
  {
   "cell_type": "markdown",
   "metadata": {},
   "source": [
    "Copiemos y peguemos el código que usaron ellos."
   ]
  },
  {
   "cell_type": "code",
   "execution_count": null,
   "metadata": {},
   "outputs": [],
   "source": [
    "# función para generar paleta de colores a partir de dos variables\n",
    "def colorFromBivariateData(Z1,Z2,cmap1 = plt.cm.YlOrRd, cmap2 = plt.cm.PuBuGn):\n",
    "    Z1_plot = np.array(255*(Z1-Z1.min())/(Z1.max()-Z1.min()), dtype = int)\n",
    "    Z2_plot = np.array(255*(Z2-Z2.min())/(Z2.max()-Z2.min()), dtype = int)\n",
    "    Z1_color = cmap1(Z1_plot)\n",
    "    Z2_color = cmap2(Z2_plot)\n",
    "    Z_color = Z1_color * Z2_color    \n",
    "    return Z_color"
   ]
  },
  {
   "cell_type": "code",
   "execution_count": null,
   "metadata": {},
   "outputs": [],
   "source": [
    "gdf_filter = barrios\n",
    "pal = plt.cm.plasma\n",
    "Z_color = colorFromBivariateData(gdf_filter['apruebo'], gdf_filter['nse_i'], cmap1 = pal, cmap2 = pal)\n",
    "ax = gdf_filter.plot(color = Z_color, edgecolor = \"black\", legend = True, alpha = 0.7, scheme='fisher_jenks')\n",
    "\n",
    "plt.show()"
   ]
  },
  {
   "cell_type": "code",
   "execution_count": null,
   "metadata": {},
   "outputs": [],
   "source": [
    "barrios['nunoismo'] = barrios['apruebo'] * barrios['nse_i']\n",
    "barrios['nunoismo'].describe()"
   ]
  },
  {
   "cell_type": "markdown",
   "metadata": {},
   "source": [
    "Graficamos"
   ]
  },
  {
   "cell_type": "code",
   "execution_count": null,
   "metadata": {},
   "outputs": [],
   "source": [
    "fig, ax = plt.subplots(1,1, figsize=(12,8))\n",
    "\n",
    "barrios.plot(column='nunoismo', edgecolor=\"darkgray\", legend=True, alpha=1.0, ax=ax, linewidth=0.3,\n",
    "             cmap='viridis')\n",
    "\n",
    "ax.set_axis_off()\n",
    "plt.tight_layout()\n",
    "plt.show()"
   ]
  },
  {
   "cell_type": "markdown",
   "metadata": {},
   "source": [
    "Y comparamos"
   ]
  },
  {
   "cell_type": "code",
   "execution_count": null,
   "metadata": {},
   "outputs": [],
   "source": [
    "fig, ax = plt.subplots(1,2, figsize=(16,8))\n",
    "\n",
    "gdf_filter.plot(color = Z_color, edgecolor = \"black\", legend = True, alpha = 0.7, scheme='fisher_jenks', ax=ax[0])\n",
    "barrios.plot(column='nunoismo', edgecolor=\"darkgray\", legend=True, alpha=1.0, ax=ax[1], linewidth=0.3,\n",
    "             cmap='viridis')\n",
    "\n",
    "ax[1].set_axis_off()\n",
    "plt.tight_layout()\n",
    "plt.show()"
   ]
  },
  {
   "cell_type": "markdown",
   "metadata": {},
   "source": [
    "¿Qué diferencias hay entre ambas representaciones? ¿Qué tan efectivas son al comunicar los datos? ¿Cuál prefieren?"
   ]
  },
  {
   "cell_type": "markdown",
   "metadata": {},
   "source": [
    "### Calculando datos espaciales"
   ]
  },
  {
   "cell_type": "markdown",
   "metadata": {},
   "source": [
    "Ahora carguemos más datos. ¿Se acuerdan de los datos de la Encuesta Origen Destino que usamos la clase pasada?  Bueno, carguemos la geografía para esos datos."
   ]
  },
  {
   "cell_type": "code",
   "execution_count": null,
   "metadata": {},
   "outputs": [],
   "source": [
    "zonas_eod = gpd.read_file('../../datos/EOD2012/Zonificacion_EOD2012.shp')\n",
    "zonas_eod.head()"
   ]
  },
  {
   "cell_type": "markdown",
   "metadata": {},
   "source": [
    "Y grafiquémosla"
   ]
  },
  {
   "cell_type": "code",
   "execution_count": null,
   "metadata": {},
   "outputs": [],
   "source": [
    "fig, ax = plt.subplots(1,1, figsize=(12,8))\n",
    "\n",
    "zonas_eod.plot(ax=ax)\n",
    "\n",
    "plt.show()"
   ]
  },
  {
   "cell_type": "markdown",
   "metadata": {},
   "source": [
    "Carguemos los mismos datos de la semana pasada, que tienen la información de los viajes de las personas encuestadas"
   ]
  },
  {
   "cell_type": "code",
   "execution_count": null,
   "metadata": {},
   "outputs": [],
   "source": [
    "viajes_persona = pd.read_csv('../../datos/eod_processed.csv')\n",
    "viajes_persona = viajes_persona[pd.notnull(viajes_persona['PesoLaboral'])]\n",
    "viajes_persona.head()"
   ]
  },
  {
   "cell_type": "markdown",
   "metadata": {},
   "source": [
    "Filtremos sólo las zonas que están presentes en los datos de viajes y probemos intersectándolas con los datos de la Región Metropolitana"
   ]
  },
  {
   "cell_type": "code",
   "execution_count": null,
   "metadata": {
    "scrolled": false
   },
   "outputs": [],
   "source": [
    "zonas_con_viajes = zonas_eod[zonas_eod.ID.isin(viajes_persona.ZonaOrigen.unique())\n",
    "                           & zonas_eod.ID.isin(viajes_persona.ZonaDestino.unique())]\n",
    "\n",
    "zonas_urbanas = gpd.overlay(zonas_con_viajes, zonas_eod, how='intersection')\n",
    "zonas_urbanas.plot()"
   ]
  },
  {
   "cell_type": "markdown",
   "metadata": {},
   "source": [
    "Una última transformación para poder trabajar con los datos"
   ]
  },
  {
   "cell_type": "code",
   "execution_count": null,
   "metadata": {},
   "outputs": [],
   "source": [
    "zonas_urbanas.head()"
   ]
  },
  {
   "cell_type": "code",
   "execution_count": null,
   "metadata": {},
   "outputs": [],
   "source": [
    "zonas_urbanas = zonas_urbanas[~zonas_urbanas.Comuna_1.isin(['Pirque', 'Calera de Tango', 'Lampa', 'Colina'])]\n",
    "zonas_urbanas = zonas_urbanas.set_index('ID_1')\n",
    "zonas_urbanas.head()"
   ]
  },
  {
   "cell_type": "code",
   "execution_count": null,
   "metadata": {},
   "outputs": [],
   "source": [
    "fig, ax = plt.subplots(1,1, figsize=(12,8))\n",
    "\n",
    "zonas_urbanas.plot(ax=ax)\n",
    "\n",
    "plt.show()"
   ]
  },
  {
   "cell_type": "markdown",
   "metadata": {},
   "source": [
    "### Choropleth"
   ]
  },
  {
   "cell_type": "markdown",
   "metadata": {},
   "source": [
    "Para hacer un chroropleth vamos a asignarle a cada zona un valor. En nuestro ejemplo, este valor será la distancia que recorren la gente de esa comuna en su viaje hacia el trabajo. Para trabajar con los datos de viajes, primero debemos transformarlos a un GeoDataFrame."
   ]
  },
  {
   "cell_type": "code",
   "execution_count": null,
   "metadata": {},
   "outputs": [],
   "source": [
    "origenes_viajes = gpd.GeoDataFrame(viajes_persona,\n",
    "                                geometry=gpd.points_from_xy(viajes_persona['OrigenCoordX'], viajes_persona['OrigenCoordY']),\n",
    "                                crs=zonas_eod.crs)\n",
    "origenes_viajes.head()\n"
   ]
  },
  {
   "cell_type": "markdown",
   "metadata": {},
   "source": [
    "Para calcular la distancia de la comuna de origen, tomaremos un promedio ponderado del atributo `DistEuclidiana` (que ya viene en los datos) de cada viaje."
   ]
  },
  {
   "cell_type": "code",
   "execution_count": null,
   "metadata": {},
   "outputs": [],
   "source": [
    "def weighted_mean(df, value='DistEuclidiana', weight='PesoLaboral'):\n",
    "    weighted_sum = (df[value] * df[weight]).sum()\n",
    "    return weighted_sum / df[weight].sum()\n",
    "\n",
    "viajes_trabajo = viajes_persona[(viajes_persona.PropositoAgregado == 'Trabajo') &\n",
    "                                (pd.notnull(viajes_persona.PesoLaboral))]\n",
    "distancia_zonas = viajes_trabajo.groupby(['ZonaOrigen']).apply(weighted_mean)\n",
    "distancia_zonas.name = 'distancia_al_trabajo'"
   ]
  },
  {
   "cell_type": "code",
   "execution_count": null,
   "metadata": {
    "scrolled": true
   },
   "outputs": [],
   "source": [
    "viajes_trabajo.head()"
   ]
  },
  {
   "cell_type": "code",
   "execution_count": null,
   "metadata": {},
   "outputs": [],
   "source": [
    "distancia_zonas"
   ]
  },
  {
   "cell_type": "markdown",
   "metadata": {},
   "source": [
    "Con los datos ya calculados ahora podemos graficar el mapa con los colores correspondientes a la distancia al trabajo."
   ]
  },
  {
   "cell_type": "code",
   "execution_count": null,
   "metadata": {},
   "outputs": [],
   "source": [
    "zonas_urbanas_con_distancia = zonas_urbanas.join(distancia_zonas, how='inner')"
   ]
  },
  {
   "cell_type": "code",
   "execution_count": null,
   "metadata": {},
   "outputs": [],
   "source": [
    "fig, ax = plt.subplots(1,1, figsize=(12,8))\n",
    "\n",
    "zonas_urbanas_con_distancia.plot(\n",
    "    ax=ax, \n",
    "    column='distancia_al_trabajo', \n",
    "    k=5,\n",
    "    scheme='Fisher_Jenks',\n",
    "    cmap='cividis_r',\n",
    "    edgecolor='#abacab',\n",
    "    linewidth=0.2,\n",
    "    legend=True\n",
    ")\n",
    "\n",
    "plt.title('Distancia al Trabajo (Fisher Jenks)')\n",
    "\n",
    "leg = ax.get_legend()\n",
    "leg.set_bbox_to_anchor((1., 0.45, 0.2, 0.2))\n",
    "ax.set_axis_off()\n",
    "plt.show()"
   ]
  },
  {
   "cell_type": "markdown",
   "metadata": {},
   "source": [
    "### Puntos"
   ]
  },
  {
   "cell_type": "markdown",
   "metadata": {},
   "source": [
    "Ahora probaremos una variante del mapa anterior usando puntos para cada viaje. Para eso, usaremos su lugar de origen, de la misma forma que en el anterior. Para eso, primero debemos filtrar sólo los viajes que se realizan en el área urbana de la RM y sólo aquellos que son de trabajo."
   ]
  },
  {
   "cell_type": "code",
   "execution_count": null,
   "metadata": {
    "scrolled": true
   },
   "outputs": [],
   "source": [
    "origenes_urbanos = gpd.sjoin(origenes_viajes.to_crs(zonas_urbanas.crs), \n",
    "                            zonas_urbanas, \n",
    "                            predicate='within', lsuffix='_l', rsuffix='_r')\n",
    "origenes_a_graficar = origenes_urbanos[origenes_urbanos.PropositoAgregado == 'Trabajo']"
   ]
  },
  {
   "cell_type": "markdown",
   "metadata": {},
   "source": [
    "Y lo graficamos, igual que el anterior"
   ]
  },
  {
   "cell_type": "code",
   "execution_count": null,
   "metadata": {},
   "outputs": [],
   "source": [
    "fig, ax = plt.subplots(1,1, figsize=(14,10))\n",
    "\n",
    "origenes_a_graficar.plot(column='DistEuclidiana', \n",
    "       ax=ax, \n",
    "       marker='.', \n",
    "       markersize=20,  \n",
    "       cmap='cividis_r', \n",
    "       legend=True)\n",
    "\n",
    "ax.set_axis_off()"
   ]
  },
  {
   "cell_type": "markdown",
   "metadata": {},
   "source": [
    "Podemos agregarle el mapa de la RM de fondo para darle más contexto."
   ]
  },
  {
   "cell_type": "code",
   "execution_count": null,
   "metadata": {},
   "outputs": [],
   "source": [
    "fig, ax = plt.subplots(1,1, figsize=(14,10))\n",
    "\n",
    "zonas_urbanas.plot(ax=ax, color='#efefef', edgecolor='#abacab', linewidth=1, alpha=0.5)\n",
    "\n",
    "origenes_a_graficar.plot(column='DistEuclidiana', \n",
    "       ax=ax, \n",
    "       marker='.', \n",
    "       markersize=20,  \n",
    "       cmap='cividis_r', \n",
    "       legend=True)\n",
    "\n",
    "ax.set_axis_off()"
   ]
  },
  {
   "cell_type": "markdown",
   "metadata": {},
   "source": [
    "Y podemos comparar ambos mapas."
   ]
  },
  {
   "cell_type": "code",
   "execution_count": null,
   "metadata": {},
   "outputs": [],
   "source": [
    "fig, ax = plt.subplots(1,2, figsize=(18,12))\n",
    "\n",
    "zonas_urbanas.plot(ax=ax[0], color='#efefef', edgecolor='#abacab', linewidth=1, alpha=0.5)\n",
    "origenes_urbanos[origenes_urbanos.PropositoAgregado == 'Trabajo'].plot(\n",
    "    column='DistEuclidiana', \n",
    "    ax=ax[0], \n",
    "    marker='.', \n",
    "    markersize=20,  \n",
    "    cmap='cividis_r')\n",
    "\n",
    "zonas_urbanas.join(distancia_zonas, how='inner').plot(ax=ax[1],\n",
    "                                          column='distancia_al_trabajo', \n",
    "                                          k=5,\n",
    "                                          scheme='Fisher_Jenks',\n",
    "                                          cmap='cividis_r',\n",
    "                                          edgecolor='#abacab',\n",
    "                                          linewidth=0.2)\n",
    "\n",
    "ax[0].set_axis_off()\n",
    "ax[1].set_axis_off()"
   ]
  },
  {
   "cell_type": "markdown",
   "metadata": {},
   "source": [
    "### Heatmap"
   ]
  },
  {
   "cell_type": "markdown",
   "metadata": {},
   "source": [
    "Para graficar un heatmap sobre un mapa, ocuparemos una función especial que calcule el mapa de calor primero, y después lo sobrepondremos al mapa geográfico."
   ]
  },
  {
   "cell_type": "code",
   "execution_count": null,
   "metadata": {},
   "outputs": [],
   "source": [
    "from KDEpy import FFTKDE\n",
    "\n",
    "def build_heatmap_data(trips):\n",
    "    # hacemos una lista con las coordenadas de los viajes\n",
    "    point_coords = np.vstack([trips.geometry.x, trips.geometry.y]).T\n",
    "    # instanciamos la Fast-Fourier Transform Kernel Density Estimation\n",
    "    kde = FFTKDE(bw=1e-2, norm=2, kernel='cosine')\n",
    "    # La variable grid_points define la cantidad de puntos en el espacio en el que se estimará la densidad\n",
    "    grid_points = 2**6  \n",
    "    # ajustamos la distribución.\n",
    "    # ¡Noten que el parámetro weights recibe el factor de expansión!\n",
    "    grid, points = kde.fit(point_coords, weights=trips['PesoLaboral'].values).evaluate(grid_points)\n",
    "    x, y = np.unique(grid[:, 0]), np.unique(grid[:, 1])\n",
    "    z = points.reshape(grid_points, grid_points).T\n",
    "    return x, y, z"
   ]
  },
  {
   "cell_type": "markdown",
   "metadata": {},
   "source": [
    "Creamos el mapa de calor y probamos como se ve."
   ]
  },
  {
   "cell_type": "code",
   "execution_count": null,
   "metadata": {},
   "outputs": [],
   "source": [
    "test_heatmap = build_heatmap_data(origenes_urbanos)\n",
    "sns.heatmap(test_heatmap[2], cmap='magma_r')"
   ]
  },
  {
   "cell_type": "code",
   "execution_count": null,
   "metadata": {},
   "outputs": [],
   "source": [
    "fig, ax = plt.subplots(1,1, figsize=(14,10))\n",
    "\n",
    "zonas_urbanas.plot(ax=ax, color='#efefef', edgecolor='#abacab', linewidth=0.5)\n",
    "\n",
    "n_levels = 20\n",
    "ax.contourf(test_heatmap[0], test_heatmap[1], test_heatmap[2], n_levels, alpha=0.8, cmap=\"magma_r\")\n",
    "\n",
    "ax.set_axis_off()\n"
   ]
  },
  {
   "cell_type": "code",
   "execution_count": null,
   "metadata": {},
   "outputs": [],
   "source": [
    "fig, ax = plt.subplots(1,1, figsize=(14,10))\n",
    "\n",
    "zonas_urbanas.plot(ax=ax, color='#efefef', edgecolor='#abacab', linewidth=0.5)\n",
    "\n",
    "n_levels = 20\n",
    "masked_z = np.ma.array(test_heatmap[2], mask=test_heatmap[2] < 1.0)\n",
    "ax.contourf(test_heatmap[0], test_heatmap[1], masked_z, n_levels, alpha=0.8, cmap=\"magma_r\")\n",
    "\n",
    "ax.set_axis_off()"
   ]
  },
  {
   "cell_type": "markdown",
   "metadata": {},
   "source": [
    "### Redes"
   ]
  },
  {
   "cell_type": "markdown",
   "metadata": {},
   "source": [
    "Primero, importamos [networkx](https://networkx.org/documentation/stable/index.html), que es el paquete que nos facilitará la vida al momento de graficar redes."
   ]
  },
  {
   "cell_type": "code",
   "execution_count": null,
   "metadata": {},
   "outputs": [],
   "source": [
    "import networkx as nx"
   ]
  },
  {
   "cell_type": "markdown",
   "metadata": {},
   "source": [
    "Cargamos los datos, que son las interacciones de los personajes de la novela Les Miserables."
   ]
  },
  {
   "cell_type": "code",
   "execution_count": null,
   "metadata": {},
   "outputs": [],
   "source": [
    "ls = pd.read_csv('../../datos/lesmiserables.csv')\n",
    "ls.head()"
   ]
  },
  {
   "cell_type": "markdown",
   "metadata": {},
   "source": [
    "Creamos la read a partir de esos datos."
   ]
  },
  {
   "cell_type": "code",
   "execution_count": null,
   "metadata": {},
   "outputs": [],
   "source": [
    "network = nx.from_pandas_edgelist(ls)"
   ]
  },
  {
   "cell_type": "markdown",
   "metadata": {},
   "source": [
    "Y la dibujamos"
   ]
  },
  {
   "cell_type": "code",
   "execution_count": null,
   "metadata": {},
   "outputs": [],
   "source": [
    "nx.draw(network)"
   ]
  },
  {
   "cell_type": "code",
   "execution_count": null,
   "metadata": {},
   "outputs": [],
   "source": [
    "nx.draw_networkx(network)"
   ]
  },
  {
   "cell_type": "code",
   "execution_count": null,
   "metadata": {},
   "outputs": [],
   "source": [
    "nx.draw_kamada_kawai(network)"
   ]
  },
  {
   "cell_type": "markdown",
   "metadata": {},
   "source": [
    "También se puede graficar de forma circular. Para eso primero calculamos las posiciones de los nodes y edges a parte."
   ]
  },
  {
   "cell_type": "code",
   "execution_count": null,
   "metadata": {},
   "outputs": [],
   "source": [
    "positions = nx.circular_layout(network)\n",
    "\n",
    "fig, ax = plt.subplots(1,1, figsize=(10,10))\n",
    "\n",
    "nx.draw_networkx_nodes(network, pos=positions, node_size=30, ax=ax)\n",
    "nx.draw_networkx_edges(network, pos=positions, alpha=0.1, ax=ax)\n",
    "\n",
    "ax.set_axis_off()"
   ]
  },
  {
   "cell_type": "markdown",
   "metadata": {},
   "source": [
    "De vuelta a la EOD. Filtremos los viajes que se realizan en el área urbana y creemos una matriz similar a la anterior de Los Miserables, pero usando zonas de origen y destino de los viajes."
   ]
  },
  {
   "cell_type": "code",
   "execution_count": null,
   "metadata": {
    "scrolled": false
   },
   "outputs": [],
   "source": [
    "viajes_urbanos = viajes_trabajo[viajes_trabajo.ZonaOrigen.isin(zonas_urbanas.index) & \n",
    "                                viajes_trabajo.ZonaDestino.isin(zonas_urbanas.index)].copy()\n",
    "\n",
    "\n",
    "matrices = (\n",
    "    viajes_urbanos[pd.notnull(viajes_urbanos.PesoLaboral)]\n",
    "        .groupby(['ZonaOrigen', 'ZonaDestino'])\n",
    "        .agg(n_viajes=('PesoLaboral', 'sum'))\n",
    ")\n",
    "\n",
    "matrices"
   ]
  },
  {
   "cell_type": "markdown",
   "metadata": {},
   "source": [
    "Las posiciones de las zonas ya están calculadas, asi que ocupamos las coordenadas de los `centroid` de los polígonos."
   ]
  },
  {
   "cell_type": "code",
   "execution_count": null,
   "metadata": {},
   "outputs": [],
   "source": [
    "centroids = zonas_urbanas.centroid\n",
    "centroids.head()"
   ]
  },
  {
   "cell_type": "code",
   "execution_count": null,
   "metadata": {},
   "outputs": [],
   "source": [
    "node_positions = dict(zip(centroids.index, zip(centroids.x, centroids.y)))\n",
    "node_positions"
   ]
  },
  {
   "cell_type": "markdown",
   "metadata": {},
   "source": [
    "Creamos un gráfico de redes a partir de esos datos, de la misma forma que lo hicimos con los otros datos."
   ]
  },
  {
   "cell_type": "code",
   "execution_count": null,
   "metadata": {},
   "outputs": [],
   "source": [
    "graph_matrix = matrices[(matrices.n_viajes >= matrices.n_viajes.quantile(0.95))].reset_index()\n",
    "graph = nx.from_pandas_edgelist(graph_matrix, \n",
    "                                source='ZonaOrigen', target='ZonaDestino', \n",
    "                                edge_attr='n_viajes',\n",
    "                                create_using=nx.DiGraph())"
   ]
  },
  {
   "cell_type": "markdown",
   "metadata": {},
   "source": [
    "Y finalmente lo graficamos sobre el mapa."
   ]
  },
  {
   "cell_type": "code",
   "execution_count": null,
   "metadata": {},
   "outputs": [],
   "source": [
    "fig, ax = plt.subplots(1, 1, figsize=(16,16))\n",
    "\n",
    "zonas_urbanas.plot(ax=ax, facecolor='#efefef', edgecolor='#666666', alpha=0.1)\n",
    "nx.draw(graph, ax=ax, pos=node_positions, node_size=30, edge_color='darkgray')\n",
    "\n",
    "ax.set_axis_off()"
   ]
  },
  {
   "cell_type": "markdown",
   "metadata": {},
   "source": [
    "Además podemos usar distintos anchos para los edges, dependiendo del número de viajes realizados de una zona a otra."
   ]
  },
  {
   "cell_type": "code",
   "execution_count": null,
   "metadata": {},
   "outputs": [],
   "source": [
    "edge_width = graph_matrix['n_viajes'] / graph_matrix['n_viajes'].max() * 7\n",
    "\n",
    "fig, ax = plt.subplots(1, 1, figsize=(16,16))\n",
    "\n",
    "zonas_urbanas.plot(ax=ax, facecolor='#efefef', edgecolor='#666666', alpha=0.1)\n",
    "nx.draw_networkx(graph, ax=ax, pos=node_positions, node_size=30, edge_color='darkgray',\n",
    "                 with_labels=False, width=edge_width)\n",
    "\n",
    "ax.set_axis_off()"
   ]
  },
  {
   "cell_type": "code",
   "execution_count": null,
   "metadata": {},
   "outputs": [],
   "source": []
  }
 ],
 "metadata": {
  "kernelspec": {
   "display_name": "Python 3",
   "language": "python",
   "name": "python3"
  },
  "language_info": {
   "codemirror_mode": {
    "name": "ipython",
    "version": 3
   },
   "file_extension": ".py",
   "mimetype": "text/x-python",
   "name": "python",
   "nbconvert_exporter": "python",
   "pygments_lexer": "ipython3",
   "version": "3.8.16"
  }
 },
 "nbformat": 4,
 "nbformat_minor": 4
}
